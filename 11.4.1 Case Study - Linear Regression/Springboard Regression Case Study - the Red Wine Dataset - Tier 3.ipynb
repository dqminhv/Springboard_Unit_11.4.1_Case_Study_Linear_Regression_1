{
  "cells": [
    {
      "cell_type": "markdown",
      "metadata": {
        "id": "view-in-github",
        "colab_type": "text"
      },
      "source": [
        "<a href=\"https://colab.research.google.com/github/dqminhv/1618932415_19042021_11.4.1_Case_Study_-_Linear_Regression_1_/blob/main/11.4.1%20Case%20Study%20-%20Linear%20Regression/Springboard%20Regression%20Case%20Study%20-%20the%20Red%20Wine%20Dataset%20-%20Tier%203.ipynb\" target=\"_parent\"><img src=\"https://colab.research.google.com/assets/colab-badge.svg\" alt=\"Open In Colab\"/></a>"
      ]
    },
    {
      "cell_type": "markdown",
      "metadata": {
        "id": "2cI3hdxwGqju"
      },
      "source": [
        "# Springboard Regression Case Study - The Red Wine Dataset - Tier 3"
      ]
    },
    {
      "cell_type": "markdown",
      "metadata": {
        "id": "VaawwyomGqjw"
      },
      "source": [
        "Welcome to the Springboard Regression case study! Please note: this is ***Tier 3*** of the case study.\n",
        "\n",
        "This case study was designed for you to **use Python to apply the knowledge you've acquired in reading *The Art of Statistics* (hereinafter *AoS*) by Professor Spiegelhalter**. Specifically, the case study will get you doing regression analysis; a method discussed in Chapter 5 on p.121. It might be useful to have the book open at that page when doing the case study to remind you of what it is we're up to (but bear in mind that other statistical concepts, such as training and testing, will be applied, so you might have to glance at other chapters too).  \n",
        "\n",
        "The aim is to ***use exploratory data analysis (EDA) and regression to predict alcohol levels in wine with a model that's as accurate as possible***.\n",
        "\n",
        "We'll try a *univariate* analysis (one involving a single explanatory variable) as well as a *multivariate* one (involving multiple explanatory variables), and we'll iterate together towards a decent model by the end of the notebook. The main thing is for you to see how regression analysis looks in Python and jupyter, and to get some practice implementing this analysis.\n",
        "\n",
        "Throughout this case study, **questions** will be asked in the markdown cells. Try to **answer these yourself in a simple text file** when they come up. Most of the time, the answers will become clear as you progress through the notebook. Some of the answers may require a little research with Google and other basic resources available to every data scientist.\n",
        "\n",
        "For this notebook, we're going to use the red wine dataset, wineQualityReds.csv. Make sure it's downloaded and sitting in your working directory. This is a very common dataset for practicing regression analysis and is actually freely available on Kaggle, [here](https://www.kaggle.com/piyushgoyal443/red-wine-dataset).\n",
        "\n",
        "You're pretty familiar with the data science pipeline at this point. This project will have the following structure:\n",
        "**1. Sourcing and loading**\n",
        "- Import relevant libraries\n",
        "- Load the data\n",
        "- Exploring the data\n",
        "- Choosing a dependent variable\n",
        "\n",
        "**2. Cleaning, transforming, and visualizing**\n",
        "- Visualizing correlations\n",
        "  \n",
        "  \n",
        "**3. Modeling**\n",
        "- Train/Test split\n",
        "- Making a Linear regression model: your first model\n",
        "- Making a Linear regression model: your second model: Ordinary Least Squares (OLS)\n",
        "- Making a Linear regression model: your third model: multiple linear regression\n",
        "- Making a Linear regression model: your fourth model: avoiding redundancy\n",
        "\n",
        "**4. Evaluating and concluding**\n",
        "- Reflection\n",
        "- Which model was best?\n",
        "- Other regression algorithms"
      ]
    },
    {
      "cell_type": "markdown",
      "metadata": {
        "id": "HXNI7VSYGqjx"
      },
      "source": [
        "### 1. Sourcing and loading"
      ]
    },
    {
      "cell_type": "markdown",
      "metadata": {
        "id": "yh_xcbPcGqjy"
      },
      "source": [
        "#### 1a. Import relevant libraries"
      ]
    },
    {
      "cell_type": "code",
      "execution_count": 1,
      "metadata": {
        "id": "EbJiKGCdGqjz"
      },
      "outputs": [],
      "source": [
        "# Import relevant libraries and packages.\n",
        "import numpy as np\n",
        "import pandas as pd\n",
        "import matplotlib.pyplot as plt\n",
        "import seaborn as sns # For all our visualization needs.\n",
        "import statsmodels.api as sm # What does this do? Find out and type here. -> apply models for the data sets\n",
        "from statsmodels.graphics.api import abline_plot # What does this do? Find out and type here. -> Plot a line given an intercept and slope.\n",
        "from sklearn.metrics import mean_squared_error, r2_score # What does this do? Find out and type here. -> calculate the mean square error and R-sq to assess the models\n",
        "from sklearn.model_selection import train_test_split #  What does this do? Find out and type here. -> to split the data sets to training/test sets\n",
        "from sklearn import linear_model, preprocessing # What does this do? Find out and type here. -> to scale the data sets\n",
        "import warnings # For handling error messages.\n",
        "# Don't worry about the following two instructions: they just suppress warnings that could occur later.\n",
        "warnings.simplefilter(action=\"ignore\", category=FutureWarning)\n",
        "warnings.filterwarnings(action=\"ignore\", module=\"scipy\", message=\"^internal gelsd\")"
      ]
    },
    {
      "cell_type": "markdown",
      "metadata": {
        "id": "T_T_6Cv1Gqj2"
      },
      "source": [
        "#### 1b. Load the data"
      ]
    },
    {
      "cell_type": "code",
      "execution_count": 2,
      "metadata": {
        "id": "KTnM8zA6Gqj3"
      },
      "outputs": [],
      "source": [
        "# Load the data.\n",
        "data = pd.read_csv('https://raw.githubusercontent.com/dqminhv/1618932415_19042021_11.4.1_Case_Study_-_Linear_Regression_1_/main/11.4.1%20Case%20Study%20-%20Linear%20Regression/wineQualityReds.csv')"
      ]
    },
    {
      "cell_type": "markdown",
      "metadata": {
        "id": "-zYSi9yRGqj6"
      },
      "source": [
        "#### 1c. Exploring the data"
      ]
    },
    {
      "cell_type": "code",
      "execution_count": 3,
      "metadata": {
        "colab": {
          "base_uri": "https://localhost:8080/",
          "height": 206
        },
        "id": "fAOOJdgdGqj6",
        "scrolled": true,
        "outputId": "5d64ef3d-980a-426e-9b08-0f2f37d30993"
      },
      "outputs": [
        {
          "output_type": "execute_result",
          "data": {
            "text/plain": [
              "   Unnamed: 0  fixed.acidity  volatile.acidity  citric.acid  residual.sugar  \\\n",
              "0           1            7.4              0.70         0.00             1.9   \n",
              "1           2            7.8              0.88         0.00             2.6   \n",
              "2           3            7.8              0.76         0.04             2.3   \n",
              "3           4           11.2              0.28         0.56             1.9   \n",
              "4           5            7.4              0.70         0.00             1.9   \n",
              "\n",
              "   chlorides  free.sulfur.dioxide  total.sulfur.dioxide  density    pH  \\\n",
              "0      0.076                 11.0                  34.0   0.9978  3.51   \n",
              "1      0.098                 25.0                  67.0   0.9968  3.20   \n",
              "2      0.092                 15.0                  54.0   0.9970  3.26   \n",
              "3      0.075                 17.0                  60.0   0.9980  3.16   \n",
              "4      0.076                 11.0                  34.0   0.9978  3.51   \n",
              "\n",
              "   sulphates  alcohol  quality  \n",
              "0       0.56      9.4        5  \n",
              "1       0.68      9.8        5  \n",
              "2       0.65      9.8        5  \n",
              "3       0.58      9.8        6  \n",
              "4       0.56      9.4        5  "
            ],
            "text/html": [
              "\n",
              "\n",
              "  <div id=\"df-d1c1f774-1e10-47be-a3ec-4bd0c611ee2a\">\n",
              "    <div class=\"colab-df-container\">\n",
              "      <div>\n",
              "<style scoped>\n",
              "    .dataframe tbody tr th:only-of-type {\n",
              "        vertical-align: middle;\n",
              "    }\n",
              "\n",
              "    .dataframe tbody tr th {\n",
              "        vertical-align: top;\n",
              "    }\n",
              "\n",
              "    .dataframe thead th {\n",
              "        text-align: right;\n",
              "    }\n",
              "</style>\n",
              "<table border=\"1\" class=\"dataframe\">\n",
              "  <thead>\n",
              "    <tr style=\"text-align: right;\">\n",
              "      <th></th>\n",
              "      <th>Unnamed: 0</th>\n",
              "      <th>fixed.acidity</th>\n",
              "      <th>volatile.acidity</th>\n",
              "      <th>citric.acid</th>\n",
              "      <th>residual.sugar</th>\n",
              "      <th>chlorides</th>\n",
              "      <th>free.sulfur.dioxide</th>\n",
              "      <th>total.sulfur.dioxide</th>\n",
              "      <th>density</th>\n",
              "      <th>pH</th>\n",
              "      <th>sulphates</th>\n",
              "      <th>alcohol</th>\n",
              "      <th>quality</th>\n",
              "    </tr>\n",
              "  </thead>\n",
              "  <tbody>\n",
              "    <tr>\n",
              "      <th>0</th>\n",
              "      <td>1</td>\n",
              "      <td>7.4</td>\n",
              "      <td>0.70</td>\n",
              "      <td>0.00</td>\n",
              "      <td>1.9</td>\n",
              "      <td>0.076</td>\n",
              "      <td>11.0</td>\n",
              "      <td>34.0</td>\n",
              "      <td>0.9978</td>\n",
              "      <td>3.51</td>\n",
              "      <td>0.56</td>\n",
              "      <td>9.4</td>\n",
              "      <td>5</td>\n",
              "    </tr>\n",
              "    <tr>\n",
              "      <th>1</th>\n",
              "      <td>2</td>\n",
              "      <td>7.8</td>\n",
              "      <td>0.88</td>\n",
              "      <td>0.00</td>\n",
              "      <td>2.6</td>\n",
              "      <td>0.098</td>\n",
              "      <td>25.0</td>\n",
              "      <td>67.0</td>\n",
              "      <td>0.9968</td>\n",
              "      <td>3.20</td>\n",
              "      <td>0.68</td>\n",
              "      <td>9.8</td>\n",
              "      <td>5</td>\n",
              "    </tr>\n",
              "    <tr>\n",
              "      <th>2</th>\n",
              "      <td>3</td>\n",
              "      <td>7.8</td>\n",
              "      <td>0.76</td>\n",
              "      <td>0.04</td>\n",
              "      <td>2.3</td>\n",
              "      <td>0.092</td>\n",
              "      <td>15.0</td>\n",
              "      <td>54.0</td>\n",
              "      <td>0.9970</td>\n",
              "      <td>3.26</td>\n",
              "      <td>0.65</td>\n",
              "      <td>9.8</td>\n",
              "      <td>5</td>\n",
              "    </tr>\n",
              "    <tr>\n",
              "      <th>3</th>\n",
              "      <td>4</td>\n",
              "      <td>11.2</td>\n",
              "      <td>0.28</td>\n",
              "      <td>0.56</td>\n",
              "      <td>1.9</td>\n",
              "      <td>0.075</td>\n",
              "      <td>17.0</td>\n",
              "      <td>60.0</td>\n",
              "      <td>0.9980</td>\n",
              "      <td>3.16</td>\n",
              "      <td>0.58</td>\n",
              "      <td>9.8</td>\n",
              "      <td>6</td>\n",
              "    </tr>\n",
              "    <tr>\n",
              "      <th>4</th>\n",
              "      <td>5</td>\n",
              "      <td>7.4</td>\n",
              "      <td>0.70</td>\n",
              "      <td>0.00</td>\n",
              "      <td>1.9</td>\n",
              "      <td>0.076</td>\n",
              "      <td>11.0</td>\n",
              "      <td>34.0</td>\n",
              "      <td>0.9978</td>\n",
              "      <td>3.51</td>\n",
              "      <td>0.56</td>\n",
              "      <td>9.4</td>\n",
              "      <td>5</td>\n",
              "    </tr>\n",
              "  </tbody>\n",
              "</table>\n",
              "</div>\n",
              "      <button class=\"colab-df-convert\" onclick=\"convertToInteractive('df-d1c1f774-1e10-47be-a3ec-4bd0c611ee2a')\"\n",
              "              title=\"Convert this dataframe to an interactive table.\"\n",
              "              style=\"display:none;\">\n",
              "\n",
              "  <svg xmlns=\"http://www.w3.org/2000/svg\" height=\"24px\"viewBox=\"0 0 24 24\"\n",
              "       width=\"24px\">\n",
              "    <path d=\"M0 0h24v24H0V0z\" fill=\"none\"/>\n",
              "    <path d=\"M18.56 5.44l.94 2.06.94-2.06 2.06-.94-2.06-.94-.94-2.06-.94 2.06-2.06.94zm-11 1L8.5 8.5l.94-2.06 2.06-.94-2.06-.94L8.5 2.5l-.94 2.06-2.06.94zm10 10l.94 2.06.94-2.06 2.06-.94-2.06-.94-.94-2.06-.94 2.06-2.06.94z\"/><path d=\"M17.41 7.96l-1.37-1.37c-.4-.4-.92-.59-1.43-.59-.52 0-1.04.2-1.43.59L10.3 9.45l-7.72 7.72c-.78.78-.78 2.05 0 2.83L4 21.41c.39.39.9.59 1.41.59.51 0 1.02-.2 1.41-.59l7.78-7.78 2.81-2.81c.8-.78.8-2.07 0-2.86zM5.41 20L4 18.59l7.72-7.72 1.47 1.35L5.41 20z\"/>\n",
              "  </svg>\n",
              "      </button>\n",
              "\n",
              "\n",
              "\n",
              "    <div id=\"df-5ac67c98-e99a-40d8-a418-f2396f27c3c6\">\n",
              "      <button class=\"colab-df-quickchart\" onclick=\"quickchart('df-5ac67c98-e99a-40d8-a418-f2396f27c3c6')\"\n",
              "              title=\"Suggest charts.\"\n",
              "              style=\"display:none;\">\n",
              "\n",
              "<svg xmlns=\"http://www.w3.org/2000/svg\" height=\"24px\"viewBox=\"0 0 24 24\"\n",
              "     width=\"24px\">\n",
              "    <g>\n",
              "        <path d=\"M19 3H5c-1.1 0-2 .9-2 2v14c0 1.1.9 2 2 2h14c1.1 0 2-.9 2-2V5c0-1.1-.9-2-2-2zM9 17H7v-7h2v7zm4 0h-2V7h2v10zm4 0h-2v-4h2v4z\"/>\n",
              "    </g>\n",
              "</svg>\n",
              "      </button>\n",
              "    </div>\n",
              "\n",
              "<style>\n",
              "  .colab-df-quickchart {\n",
              "    background-color: #E8F0FE;\n",
              "    border: none;\n",
              "    border-radius: 50%;\n",
              "    cursor: pointer;\n",
              "    display: none;\n",
              "    fill: #1967D2;\n",
              "    height: 32px;\n",
              "    padding: 0 0 0 0;\n",
              "    width: 32px;\n",
              "  }\n",
              "\n",
              "  .colab-df-quickchart:hover {\n",
              "    background-color: #E2EBFA;\n",
              "    box-shadow: 0px 1px 2px rgba(60, 64, 67, 0.3), 0px 1px 3px 1px rgba(60, 64, 67, 0.15);\n",
              "    fill: #174EA6;\n",
              "  }\n",
              "\n",
              "  [theme=dark] .colab-df-quickchart {\n",
              "    background-color: #3B4455;\n",
              "    fill: #D2E3FC;\n",
              "  }\n",
              "\n",
              "  [theme=dark] .colab-df-quickchart:hover {\n",
              "    background-color: #434B5C;\n",
              "    box-shadow: 0px 1px 3px 1px rgba(0, 0, 0, 0.15);\n",
              "    filter: drop-shadow(0px 1px 2px rgba(0, 0, 0, 0.3));\n",
              "    fill: #FFFFFF;\n",
              "  }\n",
              "</style>\n",
              "\n",
              "    <script>\n",
              "      async function quickchart(key) {\n",
              "        const containerElement = document.querySelector('#' + key);\n",
              "        const charts = await google.colab.kernel.invokeFunction(\n",
              "            'suggestCharts', [key], {});\n",
              "      }\n",
              "    </script>\n",
              "\n",
              "      <script>\n",
              "\n",
              "function displayQuickchartButton(domScope) {\n",
              "  let quickchartButtonEl =\n",
              "    domScope.querySelector('#df-5ac67c98-e99a-40d8-a418-f2396f27c3c6 button.colab-df-quickchart');\n",
              "  quickchartButtonEl.style.display =\n",
              "    google.colab.kernel.accessAllowed ? 'block' : 'none';\n",
              "}\n",
              "\n",
              "        displayQuickchartButton(document);\n",
              "      </script>\n",
              "      <style>\n",
              "    .colab-df-container {\n",
              "      display:flex;\n",
              "      flex-wrap:wrap;\n",
              "      gap: 12px;\n",
              "    }\n",
              "\n",
              "    .colab-df-convert {\n",
              "      background-color: #E8F0FE;\n",
              "      border: none;\n",
              "      border-radius: 50%;\n",
              "      cursor: pointer;\n",
              "      display: none;\n",
              "      fill: #1967D2;\n",
              "      height: 32px;\n",
              "      padding: 0 0 0 0;\n",
              "      width: 32px;\n",
              "    }\n",
              "\n",
              "    .colab-df-convert:hover {\n",
              "      background-color: #E2EBFA;\n",
              "      box-shadow: 0px 1px 2px rgba(60, 64, 67, 0.3), 0px 1px 3px 1px rgba(60, 64, 67, 0.15);\n",
              "      fill: #174EA6;\n",
              "    }\n",
              "\n",
              "    [theme=dark] .colab-df-convert {\n",
              "      background-color: #3B4455;\n",
              "      fill: #D2E3FC;\n",
              "    }\n",
              "\n",
              "    [theme=dark] .colab-df-convert:hover {\n",
              "      background-color: #434B5C;\n",
              "      box-shadow: 0px 1px 3px 1px rgba(0, 0, 0, 0.15);\n",
              "      filter: drop-shadow(0px 1px 2px rgba(0, 0, 0, 0.3));\n",
              "      fill: #FFFFFF;\n",
              "    }\n",
              "  </style>\n",
              "\n",
              "      <script>\n",
              "        const buttonEl =\n",
              "          document.querySelector('#df-d1c1f774-1e10-47be-a3ec-4bd0c611ee2a button.colab-df-convert');\n",
              "        buttonEl.style.display =\n",
              "          google.colab.kernel.accessAllowed ? 'block' : 'none';\n",
              "\n",
              "        async function convertToInteractive(key) {\n",
              "          const element = document.querySelector('#df-d1c1f774-1e10-47be-a3ec-4bd0c611ee2a');\n",
              "          const dataTable =\n",
              "            await google.colab.kernel.invokeFunction('convertToInteractive',\n",
              "                                                     [key], {});\n",
              "          if (!dataTable) return;\n",
              "\n",
              "          const docLinkHtml = 'Like what you see? Visit the ' +\n",
              "            '<a target=\"_blank\" href=https://colab.research.google.com/notebooks/data_table.ipynb>data table notebook</a>'\n",
              "            + ' to learn more about interactive tables.';\n",
              "          element.innerHTML = '';\n",
              "          dataTable['output_type'] = 'display_data';\n",
              "          await google.colab.output.renderOutput(dataTable, element);\n",
              "          const docLink = document.createElement('div');\n",
              "          docLink.innerHTML = docLinkHtml;\n",
              "          element.appendChild(docLink);\n",
              "        }\n",
              "      </script>\n",
              "    </div>\n",
              "  </div>\n"
            ]
          },
          "metadata": {},
          "execution_count": 3
        }
      ],
      "source": [
        "# Check out its appearance.\n",
        "data.head()"
      ]
    },
    {
      "cell_type": "code",
      "execution_count": 4,
      "metadata": {
        "colab": {
          "base_uri": "https://localhost:8080/"
        },
        "id": "bylOynLnGqj9",
        "outputId": "49747f39-248f-4d61-f7ae-4dfe9f1ab315"
      },
      "outputs": [
        {
          "output_type": "stream",
          "name": "stdout",
          "text": [
            "<class 'pandas.core.frame.DataFrame'>\n",
            "RangeIndex: 1599 entries, 0 to 1598\n",
            "Data columns (total 13 columns):\n",
            " #   Column                Non-Null Count  Dtype  \n",
            "---  ------                --------------  -----  \n",
            " 0   Unnamed: 0            1599 non-null   int64  \n",
            " 1   fixed.acidity         1599 non-null   float64\n",
            " 2   volatile.acidity      1599 non-null   float64\n",
            " 3   citric.acid           1599 non-null   float64\n",
            " 4   residual.sugar        1599 non-null   float64\n",
            " 5   chlorides             1599 non-null   float64\n",
            " 6   free.sulfur.dioxide   1599 non-null   float64\n",
            " 7   total.sulfur.dioxide  1599 non-null   float64\n",
            " 8   density               1599 non-null   float64\n",
            " 9   pH                    1599 non-null   float64\n",
            " 10  sulphates             1599 non-null   float64\n",
            " 11  alcohol               1599 non-null   float64\n",
            " 12  quality               1599 non-null   int64  \n",
            "dtypes: float64(11), int64(2)\n",
            "memory usage: 162.5 KB\n"
          ]
        }
      ],
      "source": [
        "# Another very useful method to call on a recently imported dataset is .info(). Call it here to get a good\n",
        "# overview of the data\n",
        "data.info()"
      ]
    },
    {
      "cell_type": "markdown",
      "metadata": {
        "id": "6yLvMH3CGqj_"
      },
      "source": [
        "What can you infer about the nature of these variables, as output by the info() method?\n",
        "\n",
        "Which variables might be suitable for regression analysis, and why? For those variables that aren't suitable for regression analysis, is there another type of statistical modeling for which they are suitable?"
      ]
    },
    {
      "cell_type": "code",
      "execution_count": 5,
      "metadata": {
        "colab": {
          "base_uri": "https://localhost:8080/"
        },
        "id": "lsuMtWKTGqkA",
        "outputId": "1d9c5011-9820-464e-fd02-added7a43ed8"
      },
      "outputs": [
        {
          "output_type": "execute_result",
          "data": {
            "text/plain": [
              "(1599, 13)"
            ]
          },
          "metadata": {},
          "execution_count": 5
        }
      ],
      "source": [
        "# We should also look more closely at the dimensions of the dataset.\n",
        "data.shape"
      ]
    },
    {
      "cell_type": "markdown",
      "metadata": {
        "id": "Cb4YWtZCGqkC"
      },
      "source": [
        "#### 1d. Choosing a dependent variable"
      ]
    },
    {
      "cell_type": "markdown",
      "metadata": {
        "id": "8GBWMyLOGqkD"
      },
      "source": [
        "We now need to pick a dependent variable for our regression analysis: a variable whose values we will predict.\n",
        "\n",
        "'Quality' seems to be as good a candidate as any. Let's check it out. One of the quickest and most informative ways to understand a variable is to make a histogram of it. This gives us an idea of both the center and spread of its values."
      ]
    },
    {
      "cell_type": "code",
      "execution_count": 8,
      "metadata": {
        "colab": {
          "base_uri": "https://localhost:8080/",
          "height": 472
        },
        "id": "xRo3texfGqkE",
        "outputId": "c0c59369-2e4b-4ad0-d749-1d64b7d29238"
      },
      "outputs": [
        {
          "output_type": "display_data",
          "data": {
            "text/plain": [
              "<Figure size 640x480 with 1 Axes>"
            ],
            "image/png": "[encoded data removed]"
          },
          "metadata": {}
        }
      ],
      "source": [
        "# Making a histogram of the quality variable.\n",
        "_ = plt.hist(data['quality'], bins=40)\n",
        "_ = plt.xlabel('Quality')\n",
        "_ = plt.ylabel('Count')\n",
        "_ = plt.title('Histogram of the quality of wines')"
      ]
    },
    {
      "cell_type": "markdown",
      "metadata": {
        "id": "lYnayRoDGqkG"
      },
      "source": [
        "We can see so much about the quality variable just from this simple visualization. Answer yourself: what value do most wines have for quality? What is the minimum quality value below, and the maximum quality value? What is the range? Remind yourself of these summary statistical concepts by looking at p.49 of the *AoS*.\n",
        "\n",
        "But can you think of a problem with making this variable the dependent variable of regression analysis? Remember the example in *AoS* on p.122 of predicting the heights of children from the heights of parents? Take a moment here to think about potential problems before reading on.\n",
        "\n",
        "The issue is this: quality is a *discrete* variable, in that its values are integers (whole numbers) rather than floating point numbers. Thus, quality is not a *continuous* variable. But this means that it's actually not the best target for regression analysis.\n",
        "\n",
        "Before we dismiss the quality variable, however, let's verify that it is indeed a discrete variable with some further exploration."
      ]
    },
    {
      "cell_type": "code",
      "execution_count": 9,
      "metadata": {
        "colab": {
          "base_uri": "https://localhost:8080/"
        },
        "id": "NAL3KUn-GqkH",
        "outputId": "21325235-4d5a-4c04-9ba1-d18d9988ad61"
      },
      "outputs": [
        {
          "output_type": "execute_result",
          "data": {
            "text/plain": [
              "count    1599.000000\n",
              "mean        5.636023\n",
              "std         0.807569\n",
              "min         3.000000\n",
              "25%         5.000000\n",
              "50%         6.000000\n",
              "75%         6.000000\n",
              "max         8.000000\n",
              "Name: quality, dtype: float64"
            ]
          },
          "metadata": {},
          "execution_count": 9
        }
      ],
      "source": [
        "# Get a basic statistical summary of the variable\n",
        "data['quality'].describe()\n",
        "# What do you notice from this summary?\n",
        "# The data is skewed to the right. the 25% percentile is very close to the mean"
      ]
    },
    {
      "cell_type": "code",
      "execution_count": null,
      "metadata": {
        "id": "NecGX2YgGqkJ"
      },
      "outputs": [],
      "source": [
        "# Get a list of the values of the quality variable, and the number of occurrences of each.\n",
        "_ _ _"
      ]
    },
    {
      "cell_type": "markdown",
      "metadata": {
        "id": "HXm0-0P6GqkL"
      },
      "source": [
        "The outputs of the describe() and value_counts() methods are consistent with our histogram, and since there are just as many values as there are rows in the dataset, we can infer that there are no NAs for the quality variable.\n",
        "\n",
        "But scroll up again to when we called info() on our wine dataset. We could have seen there, already, that the quality variable had int64 as its type. As a result, we had sufficient information, already, to know that the quality variable was not appropriate for regression analysis. Did you figure this out yourself? If so, kudos to you!\n",
        "\n",
        "The quality variable would, however, conduce to proper classification analysis. This is because, while the values for the quality variable are numeric, those numeric discrete values represent *categories*; and the prediction of category-placement is most often best done by classification algorithms. You saw the decision tree output by running a classification algorithm on the Titanic dataset on p.168 of Chapter 6 of *AoS*. For now, we'll continue with our regression analysis, and continue our search for a suitable dependent variable.\n",
        "\n",
        "Now, since the rest of the variables of our wine dataset are continuous, we could — in theory — pick any of them. But that does not mean that are all equally sutiable choices. What counts as a suitable dependent variable for regression analysis is determined not just by *intrinsic* features of the dataset (such as data types, number of NAs etc) but by *extrinsic* features, such as, simply, which variables are the most interesting or useful to predict, given our aims and values in the context we're in. Almost always, we can only determine which variables are sensible choices for dependent variables with some **domain knowledge**.\n",
        "\n",
        "Not all of you might be wine buffs, but one very important and interesting quality in wine is [acidity](https://waterhouse.ucdavis.edu/whats-in-wine/fixed-acidity). As the Waterhouse Lab at the University of California explains, 'acids impart the sourness or tartness that is a fundamental feature in wine taste.  Wines lacking in acid are \"flat.\" Chemically the acids influence titrable acidity which affects taste and pH which affects  color, stability to oxidation, and consequantly the overall lifespan of a wine.'\n",
        "\n",
        "If we cannot predict quality, then it seems like **fixed acidity** might be a great option for a dependent variable. Let's go for that."
      ]
    },
    {
      "cell_type": "markdown",
      "metadata": {
        "id": "4949xkedGqkM"
      },
      "source": [
        "So if we're going for fixed acidity as our dependent variable, what we now want to get is an idea of *which variables are related interestingly to that dependent variable*.\n",
        "\n",
        "We can call the .corr() method on our wine data to look at all the correlations between our variables. As the [documentation](https://pandas.pydata.org/pandas-docs/stable/reference/api/pandas.DataFrame.corr.html) shows, the default correlation coefficient is the Pearson correlation coefficient (p.58 and p.396 of the *AoS*); but other coefficients can be plugged in as parameters. Remember, the Pearson correlation coefficient shows us how close to a straight line the data-points fall, and is a number between -1 and 1."
      ]
    },
    {
      "cell_type": "code",
      "execution_count": null,
      "metadata": {
        "id": "7Spwrq9FGqkN"
      },
      "outputs": [],
      "source": [
        "# Call the .corr() method on the wine dataset\n",
        "_ _ _"
      ]
    },
    {
      "cell_type": "markdown",
      "metadata": {
        "id": "N8gBajevGqkP"
      },
      "source": [
        "Ok - you might be thinking, but wouldn't it be nice if we visualized these relationships? It's hard to get a picture of the correlations between the variables without anything visual.\n",
        "\n",
        "Very true, and this brings us to the next section."
      ]
    },
    {
      "cell_type": "markdown",
      "metadata": {
        "id": "ncBGyH7zGqkQ"
      },
      "source": [
        "### 2. Cleaning, Transforming, and Visualizing"
      ]
    },
    {
      "cell_type": "markdown",
      "metadata": {
        "id": "XjpzISHEGqkQ"
      },
      "source": [
        "#### 2a. Visualizing correlations\n",
        "The heading of this stage of the data science pipeline ('Cleaning, Transforming, and Visualizing') doesn't imply that we have to do all of those operations in *that order*. Sometimes (and this is a case in point) our data is already relatively clean, and the priority is to do some visualization. Normally, however, our data is less sterile, and we have to do some cleaning and transforming first prior to visualizing."
      ]
    },
    {
      "cell_type": "markdown",
      "metadata": {
        "id": "-rG6J07GGqkR"
      },
      "source": [
        "Now that we've chosen **fixed acidity** as our dependent variable for regression analysis, we can begin by plotting the pairwise relationships in the dataset, to check out how our variables relate to one another."
      ]
    },
    {
      "cell_type": "code",
      "execution_count": null,
      "metadata": {
        "id": "vZN9QcvcGqkS"
      },
      "outputs": [],
      "source": [
        "# Make a pairplot of the wine data\n",
        "_ _ _"
      ]
    },
    {
      "cell_type": "markdown",
      "metadata": {
        "id": "WiMyY0pTGqkU"
      },
      "source": [
        "If you've never executed your own Seaborn pairplot before, just take a moment to look at the output. They certainly output a lot of information at once. What can you infer from it? What can you *not* justifiably infer from it?\n",
        "\n",
        "... All done?\n",
        "\n",
        "Here's a couple things you might have noticed:\n",
        "- a given cell value represents the correlation that exists between two variables\n",
        "- on the diagonal, you can see a bunch of histograms. This is because pairplotting the variables with themselves would be pointless, so the pairplot() method instead makes histograms to show the distributions of those variables' values. This allows us to quickly see the shape of each variable's values.  \n",
        "- the plots for the quality variable form horizontal bands, due to the fact that it's a discrete variable. We were certainly right in not pursuing a regression analysis of this variable.\n",
        "- Notice that some of the nice plots invite a line of best fit, such as alcohol vs density. Others, such as citric acid vs alcohol, are more inscrutable."
      ]
    },
    {
      "cell_type": "markdown",
      "metadata": {
        "id": "K0d5C_26GqkV"
      },
      "source": [
        "So we now have called the .corr() method, and the .pairplot() Seaborn method, on our wine data. Both have flaws. Happily, we can get the best of both worlds with a heatmap."
      ]
    },
    {
      "cell_type": "code",
      "execution_count": null,
      "metadata": {
        "id": "iq83PhG_GqkW"
      },
      "outputs": [],
      "source": [
        "# Make a heatmap of the data\n",
        "_ _ _\n"
      ]
    },
    {
      "cell_type": "markdown",
      "metadata": {
        "id": "LJIMwKqWGqkY"
      },
      "source": [
        "Take a moment to think about the following questions:\n",
        "- How does color relate to extent of correlation?\n",
        "- How might we use the plot to show us interesting relationships worth investigating?\n",
        "- More precisely, what does the heatmap show us about the fixed acidity variable's relationship to the density variable?\n",
        "\n",
        "There is a relatively strong correlation between the density and fixed acidity variables respectively. In the next code block, call the scatterplot() method on our sns object. Make the x-axis parameter 'density', the y-axis parameter 'fixed.acidity', and the third parameter specify our wine dataset.  "
      ]
    },
    {
      "cell_type": "code",
      "execution_count": null,
      "metadata": {
        "id": "No6IGyXQGqkY"
      },
      "outputs": [],
      "source": [
        "# Plot density against fixed.acidity\n",
        "_ _ _"
      ]
    },
    {
      "cell_type": "markdown",
      "metadata": {
        "id": "ASgFbb9FGqka"
      },
      "source": [
        "We can see a positive correlation, and quite a steep one. There are some outliers, but as a whole, there is a steep looking line that looks like it ought to be drawn."
      ]
    },
    {
      "cell_type": "code",
      "execution_count": null,
      "metadata": {
        "id": "Ao1n1kUUGqkb"
      },
      "outputs": [],
      "source": [
        "# Call the regplot method on your sns object, with parameters: x = 'density', y = 'fixed.acidity'\n",
        "_ _ _"
      ]
    },
    {
      "cell_type": "markdown",
      "metadata": {
        "id": "bFfFLdBaGqkd"
      },
      "source": [
        "The line of best fit matches the overall shape of the data, but it's clear that there are some points that deviate from the line, rather than all clustering close."
      ]
    },
    {
      "cell_type": "markdown",
      "metadata": {
        "id": "4o5YeU4FGqkf"
      },
      "source": [
        "Let's see if we can predict fixed acidity based on density using linear regression."
      ]
    },
    {
      "cell_type": "markdown",
      "metadata": {
        "id": "rJYTl9gDGqkg"
      },
      "source": [
        "### 3. Modeling"
      ]
    },
    {
      "cell_type": "markdown",
      "metadata": {
        "id": "0ppc75mQGqkg"
      },
      "source": [
        "#### 3a. Train/Test Split\n",
        "While this dataset is super clean, and hence doesn't require much for analysis, we still need to split our dataset into a test set and a training set.\n",
        "\n",
        "You'll recall from p.158 of *AoS* that such a split is important good practice when evaluating statistical models. On p.158, Professor Spiegelhalter was evaluating a classification tree, but the same applies when we're doing regression. Normally, we train with 75% of the data and test on the remaining 25%.\n",
        "\n",
        "To be sure, for our first model, we're only going to focus on two variables: fixed acidity as our dependent variable, and density as our sole independent predictor variable.\n",
        "\n",
        "We'll be using [sklearn](https://scikit-learn.org/stable/modules/generated/sklearn.model_selection.train_test_split.html) here. Don't worry if not all of the syntax makes sense; just follow the rationale for what we're doing."
      ]
    },
    {
      "cell_type": "code",
      "execution_count": null,
      "metadata": {
        "id": "6gDs3MpuGqki"
      },
      "outputs": [],
      "source": [
        "# Subsetting our data into our dependent and independent variables.\n",
        "_ _ _\n",
        "\n",
        "# Split the data. This line uses the sklearn function train_test_split().\n",
        "# The test_size parameter means we can train with 75% of the data, and test on 25%.\n",
        "_ _ _"
      ]
    },
    {
      "cell_type": "code",
      "execution_count": null,
      "metadata": {
        "id": "9Zam5wpCGqkm"
      },
      "outputs": [],
      "source": [
        "# We now want to check the shape of the X train, y_train, X_test and y_test to make sure the proportions are right.\n",
        "_ _ _"
      ]
    },
    {
      "cell_type": "markdown",
      "metadata": {
        "id": "GHPrhBm-Gqko"
      },
      "source": [
        "#### 3b. Making a Linear Regression model: our first model\n",
        "Sklearn has a [LinearRegression()](https://scikit-learn.org/stable/modules/generated/sklearn.linear_model.LinearRegression.html) function built into the linear_model module. We'll be using that to make our regression model."
      ]
    },
    {
      "cell_type": "code",
      "execution_count": null,
      "metadata": {
        "id": "03dzTnSgGqkp"
      },
      "outputs": [],
      "source": [
        "# Create the model: make a variable called rModel, and use it linear_model.LinearRegression appropriately\n",
        "_ _ _"
      ]
    },
    {
      "cell_type": "code",
      "execution_count": null,
      "metadata": {
        "id": "w9f9H3G6Gqkr"
      },
      "outputs": [],
      "source": [
        "# We now want to train the model on our test data.\n",
        "_ _ _"
      ]
    },
    {
      "cell_type": "code",
      "execution_count": null,
      "metadata": {
        "id": "BJaGHtpdGqkt"
      },
      "outputs": [],
      "source": [
        "# Evaluate the model\n",
        "_ _ _"
      ]
    },
    {
      "cell_type": "markdown",
      "metadata": {
        "id": "kcYpzHb-Gqkv"
      },
      "source": [
        "The above score is called R-Squared coefficient, or the \"coefficient of determination\". It's basically a measure of how successfully our model predicts the variations in the data away from the mean: 1 would mean a perfect model that explains 100% of the variation. At the moment, our model explains only about 45% of the variation from the mean. There's more work to do!"
      ]
    },
    {
      "cell_type": "code",
      "execution_count": null,
      "metadata": {
        "id": "aagTStMyGqkw"
      },
      "outputs": [],
      "source": [
        "# Use the model to make predictions about our test data\n",
        "_ _ _"
      ]
    },
    {
      "cell_type": "code",
      "execution_count": null,
      "metadata": {
        "id": "F1hWPPLLGqkx"
      },
      "outputs": [],
      "source": [
        "# Let's plot the predictions against the actual result. Use scatter()\n",
        "_ _ _"
      ]
    },
    {
      "cell_type": "markdown",
      "metadata": {
        "id": "Y3VK8DMEGqkz"
      },
      "source": [
        "The above scatterplot represents how well the predictions match the actual results.\n",
        "\n",
        "Along the x-axis, we have the actual fixed acidity, and along the y-axis we have the predicted value for the fixed acidity.\n",
        "\n",
        "There is a visible positive correlation, as the model has not been totally unsuccesful, but it's clear that it is not maximally accurate: wines with an actual fixed acidity of just over 10 have been predicted as having acidity levels from about 6.3 to 13."
      ]
    },
    {
      "cell_type": "markdown",
      "metadata": {
        "id": "SVhg665zGqk0"
      },
      "source": [
        "Let's build a similar model using a different package, to see if we get a better result that way."
      ]
    },
    {
      "cell_type": "markdown",
      "metadata": {
        "id": "cDiYKopuGqk0"
      },
      "source": [
        "#### 3c. Making a Linear Regression model: our second model: Ordinary Least Squares (OLS)"
      ]
    },
    {
      "cell_type": "code",
      "execution_count": null,
      "metadata": {
        "id": "MSLdlC5RGqk1"
      },
      "outputs": [],
      "source": [
        "# Create the test and train sets. Here, we do things slightly differently.\n",
        "# We make the explanatory variable X as before.\n",
        "_ _ _\n",
        "\n",
        "# But here, reassign X the value of adding a constant to it. This is required for Ordinary Least Squares Regression.\n",
        "# Further explanation of this can be found here:\n",
        "# https://www.statsmodels.org/devel/generated/statsmodels.regression.linear_model.OLS.html\n",
        "_ _ _"
      ]
    },
    {
      "cell_type": "code",
      "execution_count": null,
      "metadata": {
        "id": "0KdTFF3NGqk3"
      },
      "outputs": [],
      "source": [
        "# The rest of the preparation is as before.\n",
        "_ _ _\n",
        "\n",
        "# Split the data using train_test_split()\n",
        "_ _ _"
      ]
    },
    {
      "cell_type": "code",
      "execution_count": null,
      "metadata": {
        "id": "73JmGJxlGqk6"
      },
      "outputs": [],
      "source": [
        "# Create the model\n",
        "_ _ _\n",
        "\n",
        "# Fit the model with fit()\n",
        "_ _ _"
      ]
    },
    {
      "cell_type": "code",
      "execution_count": null,
      "metadata": {
        "id": "Qb-6Sz8dGqk9"
      },
      "outputs": [],
      "source": [
        "# Evaluate the model with .summary()\n",
        "_ _ _"
      ]
    },
    {
      "cell_type": "markdown",
      "metadata": {
        "id": "2LlLmwEfGqlB"
      },
      "source": [
        "One of the great things about Statsmodels (sm) is that you get so much information from the summary() method.\n",
        "\n",
        "There are lots of values here, whose meanings you can explore at your leisure, but here's one of the most important: the R-squared score is 0.455, the same as what it was with the previous model. This makes perfect sense, right? It's the same value as the score from sklearn, because they've both used the same algorithm on the same data.\n",
        "\n",
        "Here's a useful link you can check out if you have the time: https://www.theanalysisfactor.com/assessing-the-fit-of-regression-models/"
      ]
    },
    {
      "cell_type": "code",
      "execution_count": null,
      "metadata": {
        "id": "lU654Tl3GqlB"
      },
      "outputs": [],
      "source": [
        "# Let's use our new model to make predictions of the dependent variable y. Use predict(), and plug in X_test as the parameter\n",
        "_ _ _"
      ]
    },
    {
      "cell_type": "code",
      "execution_count": null,
      "metadata": {
        "id": "7bGBv4wzGqlE"
      },
      "outputs": [],
      "source": [
        "# Plot the predictions\n",
        "# Build a scatterplot\n",
        "_ _ _\n",
        "\n",
        "# Add a line for perfect correlation. Can you see what this line is doing? Use plot()\n",
        "_ _ _\n",
        "\n",
        "# Label it nicely\n",
        "_ _ _\n"
      ]
    },
    {
      "cell_type": "markdown",
      "metadata": {
        "id": "F8gO2aZSGqlF"
      },
      "source": [
        "The red line shows a theoretically perfect correlation between our actual and predicted values - the line that would exist if every prediction was completely correct. It's clear that while our points have a generally similar direction, they don't match the red line at all; we still have more work to do.\n",
        "\n",
        "To get a better predictive model, we should use more than one variable."
      ]
    },
    {
      "cell_type": "markdown",
      "metadata": {
        "id": "Z9dVIIRZGqlG"
      },
      "source": [
        "#### 3d. Making a Linear Regression model: our third model: multiple linear regression\n",
        "Remember, as Professor Spiegelhalter explains on p.132 of *AoS*, including more than one explanatory variable into a linear regression analysis is known as ***multiple linear regression***."
      ]
    },
    {
      "cell_type": "code",
      "execution_count": null,
      "metadata": {
        "id": "8SdG0NKSGqlH"
      },
      "outputs": [],
      "source": [
        "# Create test and train datasets\n",
        "# This is again very similar, but now we include more columns in the predictors\n",
        "# Include all columns from data in the explanatory variables X except fixed.acidity and quality (which was an integer)\n",
        "_ _ _\n",
        "\n",
        "# Create constants for X, so the model knows its bounds\n",
        "_ _ _\n",
        "\n",
        "\n",
        "# Split the data\n",
        "_ _ _"
      ]
    },
    {
      "cell_type": "code",
      "execution_count": null,
      "metadata": {
        "id": "1YnR6q3RGqlI"
      },
      "outputs": [],
      "source": [
        "# We can use almost identical code to create the third model, because it is the same algorithm, just different inputs\n",
        "# Create the model\n",
        "_ _ _\n",
        "\n",
        "# Fit the model\n",
        "_ _ _"
      ]
    },
    {
      "cell_type": "code",
      "execution_count": null,
      "metadata": {
        "id": "qyZ54Rm4GqlL"
      },
      "outputs": [],
      "source": [
        "# Evaluate the model\n",
        "_ _ _"
      ]
    },
    {
      "cell_type": "markdown",
      "metadata": {
        "id": "WNej4CuRGqlN"
      },
      "source": [
        "The R-Squared score shows a big improvement - our first model predicted only around 45% of the variation, but now we are predicting 87%!"
      ]
    },
    {
      "cell_type": "code",
      "execution_count": null,
      "metadata": {
        "id": "oNUQzzo6GqlN"
      },
      "outputs": [],
      "source": [
        "# Use our new model to make predictions\n",
        "_ _ _"
      ]
    },
    {
      "cell_type": "code",
      "execution_count": null,
      "metadata": {
        "id": "U57NRSbAGqlP"
      },
      "outputs": [],
      "source": [
        "# Plot the predictions\n",
        "# Build a scatterplot\n",
        "_ _ _\n",
        "\n",
        "# Add a line for perfect correlation\n",
        "_ _ _\n",
        "\n",
        "# Label it nicely\n",
        "_ _ _"
      ]
    },
    {
      "cell_type": "markdown",
      "metadata": {
        "id": "S1ibYGRMGqlR"
      },
      "source": [
        "We've now got a much closer match between our data and our predictions, and we can see that the shape of the data points is much more similar to the red line."
      ]
    },
    {
      "cell_type": "markdown",
      "metadata": {
        "id": "JWV66iJBGqlR"
      },
      "source": [
        "We can check another metric as well - the RMSE (Root Mean Squared Error). The MSE is defined by Professor Spiegelhalter on p.393 of *AoS*, and the RMSE is just the square root of that value. This is a measure of the accuracy of a regression model. Very simply put, it's formed by finding the average difference between predictions and actual values. Check out p. 163 of *AoS* for a reminder of how this works."
      ]
    },
    {
      "cell_type": "code",
      "execution_count": null,
      "metadata": {
        "id": "akOtp5XbGqlS"
      },
      "outputs": [],
      "source": [
        "# Define a function to check the RMSE. Remember the def keyword needed to make functions?\n",
        "_ _ _\n"
      ]
    },
    {
      "cell_type": "code",
      "execution_count": null,
      "metadata": {
        "id": "WDwrCwzIGqlV"
      },
      "outputs": [],
      "source": [
        "# Get predictions from rModel3\n",
        "_ _ _\n",
        "\n",
        "# Put the predictions & actual values into a dataframe\n",
        "_ _ _\n"
      ]
    },
    {
      "cell_type": "markdown",
      "metadata": {
        "id": "GT2va_xdGqlY"
      },
      "source": [
        "The RMSE tells us how far, on average, our predictions were mistaken. An RMSE of 0 would mean we were making perfect predictions. 0.6 signifies that we are, on average, about 0.6 of a unit of fixed acidity away from the correct answer. That's not bad at all."
      ]
    },
    {
      "cell_type": "markdown",
      "metadata": {
        "id": "V_L9Y6n_GqlZ"
      },
      "source": [
        "#### 3e. Making a Linear Regression model: our fourth model: avoiding redundancy"
      ]
    },
    {
      "cell_type": "markdown",
      "metadata": {
        "id": "4mOHh6J3GqlZ"
      },
      "source": [
        "We can also see from our early heat map that volatile.acidity and citric.acid are both correlated with pH. We can make a model that ignores those two variables and just uses pH, in an attempt to remove redundancy from our model."
      ]
    },
    {
      "cell_type": "code",
      "execution_count": null,
      "metadata": {
        "id": "VwClRAN4Gqla"
      },
      "outputs": [],
      "source": [
        "# Create test and train datasets\n",
        "# Include the remaining six columns as predictors\n",
        "_ _ _\n",
        "\n",
        "# Create constants for X, so the model knows its bounds\n",
        "_ _ _\n",
        "\n",
        "# Split the data\n",
        "\n",
        "_ _ _"
      ]
    },
    {
      "cell_type": "code",
      "execution_count": null,
      "metadata": {
        "id": "7IXsxASsGqlc"
      },
      "outputs": [],
      "source": [
        "# Create the fifth model\n",
        "_ _ _\n",
        "# Fit the model\n",
        "_ _ _\n",
        "# Evaluate the model\n",
        "_ _ _\n"
      ]
    },
    {
      "cell_type": "markdown",
      "metadata": {
        "id": "eTkBnGW5Gqle"
      },
      "source": [
        "The R-squared score has reduced, showing us that actually, the removed columns were important."
      ]
    },
    {
      "cell_type": "markdown",
      "metadata": {
        "id": "DavE_2ejGqle"
      },
      "source": [
        "### Conclusions & next steps"
      ]
    },
    {
      "cell_type": "markdown",
      "metadata": {
        "id": "JznDokUxGqlf"
      },
      "source": [
        "Congratulations on getting through this implementation of regression and good data science practice in Python!\n",
        "\n",
        "Take a moment to reflect on which model was the best, before reading on.\n",
        "\n",
        ".\n",
        ".\n",
        ".\n",
        "\n",
        "Here's one conclusion that seems right. While our most predictively powerful model was rModel3, this model had explanatory variables that were correlated with one another, which made some redundancy. Our most elegant and economical model was rModel4 - it used just a few predictors to get a good result.\n",
        "\n",
        "All of our models in this notebook have used the OLS algorithm - Ordinary Least Squares. There are many other regression algorithms, and if you have time, it would be good to investigate them. You can find some examples [here](https://www.statsmodels.org/dev/examples/index.html#regression). Be sure to make a note of what you find, and chat through it with your mentor at your next call.\n"
      ]
    }
  ],
  "metadata": {
    "colab": {
      "name": "Springboard Regression Case Study, Unit 8 - the Red Wine Dataset - Tier 3.ipynb",
      "provenance": [],
      "include_colab_link": true
    },
    "kernelspec": {
      "display_name": "Python 3",
      "language": "python",
      "name": "python3"
    },
    "language_info": {
      "codemirror_mode": {
        "name": "ipython",
        "version": 3
      },
      "file_extension": ".py",
      "mimetype": "text/x-python",
      "name": "python",
      "nbconvert_exporter": "python",
      "pygments_lexer": "ipython3",
      "version": "3.7.4"
    }
  },
  "nbformat": 4,
  "nbformat_minor": 0
}